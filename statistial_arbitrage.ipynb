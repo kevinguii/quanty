{
 "cells": [
  {
   "cell_type": "markdown",
   "id": "d85cb697",
   "metadata": {},
   "source": [
    "referring to this medium article:\n",
    "\n",
    "https://wire.insiderfinance.io/statistical-arbitrage-in-python-how-ken-griffin-built-a-fortune-917758234152"
   ]
  },
  {
   "cell_type": "code",
   "execution_count": 2,
   "id": "540a83c7",
   "metadata": {},
   "outputs": [
    {
     "name": "stderr",
     "output_type": "stream",
     "text": [
      "/var/folders/z_/9h44s4jd1_v60ytmp987cz8m0000gn/T/ipykernel_84149/3946870560.py:10: FutureWarning: YF.download() has changed argument auto_adjust default to True\n",
      "  data = yf.download(tickers, start=\"2023-01-01\", end=\"2025-02-26\")\n",
      "[*********************100%***********************]  3 of 3 completed"
     ]
    },
    {
     "name": "stdout",
     "output_type": "stream",
     "text": [
      "Price            Close                               High             \\\n",
      "Ticker            AAPL      GOOGL        MSFT        AAPL      GOOGL   \n",
      "Date                                                                   \n",
      "2023-01-03  123.470619  88.588707  234.808975  129.226060  90.507201   \n",
      "2023-01-04  124.744125  87.554909  224.537674  127.014716  90.109587   \n",
      "2023-01-05  123.421249  85.686111  217.882874  126.136083  87.047947   \n",
      "2023-01-06  127.962440  86.819313  220.450668  128.623871  87.167233   \n",
      "2023-01-09  128.485657  87.495255  222.597076  131.703978  89.513159   \n",
      "\n",
      "Price                          Low                               Open  \\\n",
      "Ticker            MSFT        AAPL      GOOGL        MSFT        AAPL   \n",
      "Date                                                                    \n",
      "2023-01-03  240.856103  122.582127  87.992278  232.672380  128.613993   \n",
      "2023-01-04  228.232587  123.480495  86.749732  221.460205  125.267347   \n",
      "2023-01-05  223.018529  123.164580  85.387904  217.343823  125.504267   \n",
      "2023-01-06  221.264141  123.292931  84.354102  214.981803  124.398611   \n",
      "2023-01-09  226.635040  128.228987  87.336212  221.901224  128.801572   \n",
      "\n",
      "Price                                 Volume                      \n",
      "Ticker          GOOGL        MSFT       AAPL     GOOGL      MSFT  \n",
      "Date                                                              \n",
      "2023-01-03  89.055899  238.239276  112117500  28131200  25740000  \n",
      "2023-01-04  89.811373  227.654340   89113600  34854800  50623400  \n",
      "2023-01-05  86.948545  222.675493   80962700  27194400  39585600  \n",
      "2023-01-06  86.272596  218.559110   87754700  41381500  43613600  \n",
      "2023-01-09  87.833232  221.940421   70790800  29003900  27369800  \n"
     ]
    },
    {
     "name": "stderr",
     "output_type": "stream",
     "text": [
      "\n"
     ]
    }
   ],
   "source": [
    "import yfinance as yf\n",
    "import pandas as pd\n",
    "import numpy as np\n",
    "import matplotlib.pyplot as plt\n",
    "\n",
    "# Define the basket of assets\n",
    "tickers = [\"AAPL\", \"MSFT\", \"GOOGL\"]\n",
    "\n",
    "# Download historical Adjusted Close prices (last 2 years)\n",
    "data = yf.download(tickers, start=\"2023-01-01\", end=\"2025-02-26\")\n",
    "\n",
    "# Check the data\n",
    "print(data.head())"
   ]
  },
  {
   "cell_type": "code",
   "execution_count": 4,
   "id": "85c62a9b",
   "metadata": {},
   "outputs": [
    {
     "data": {
      "text/plain": [
       "MultiIndex([( 'Close',  'AAPL'),\n",
       "            ( 'Close', 'GOOGL'),\n",
       "            ( 'Close',  'MSFT'),\n",
       "            (  'High',  'AAPL'),\n",
       "            (  'High', 'GOOGL'),\n",
       "            (  'High',  'MSFT'),\n",
       "            (   'Low',  'AAPL'),\n",
       "            (   'Low', 'GOOGL'),\n",
       "            (   'Low',  'MSFT'),\n",
       "            (  'Open',  'AAPL'),\n",
       "            (  'Open', 'GOOGL'),\n",
       "            (  'Open',  'MSFT'),\n",
       "            ('Volume',  'AAPL'),\n",
       "            ('Volume', 'GOOGL'),\n",
       "            ('Volume',  'MSFT')],\n",
       "           names=['Price', 'Ticker'])"
      ]
     },
     "execution_count": 4,
     "metadata": {},
     "output_type": "execute_result"
    }
   ],
   "source": [
    "data.columns"
   ]
  },
  {
   "cell_type": "code",
   "execution_count": 7,
   "id": "7ea60929",
   "metadata": {},
   "outputs": [],
   "source": [
    "close_data = data['Close']"
   ]
  },
  {
   "cell_type": "code",
   "execution_count": 9,
   "id": "cde7d943",
   "metadata": {},
   "outputs": [
    {
     "data": {
      "text/plain": [
       "Ticker\n",
       "AAPL     123.421249\n",
       "GOOGL     85.686111\n",
       "MSFT     217.882874\n",
       "dtype: float64"
      ]
     },
     "execution_count": 9,
     "metadata": {},
     "output_type": "execute_result"
    }
   ],
   "source": [
    "close_data.min()"
   ]
  }
 ],
 "metadata": {
  "kernelspec": {
   "display_name": "school",
   "language": "python",
   "name": "python3"
  },
  "language_info": {
   "codemirror_mode": {
    "name": "ipython",
    "version": 3
   },
   "file_extension": ".py",
   "mimetype": "text/x-python",
   "name": "python",
   "nbconvert_exporter": "python",
   "pygments_lexer": "ipython3",
   "version": "3.11.8"
  }
 },
 "nbformat": 4,
 "nbformat_minor": 5
}
