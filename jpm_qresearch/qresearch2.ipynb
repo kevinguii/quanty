{
 "cells": [
  {
   "cell_type": "markdown",
   "metadata": {},
   "source": [
    "# Task 2 (Prototype Price Model)"
   ]
  },
  {
   "cell_type": "markdown",
   "metadata": {},
   "source": [
    "You should write a function that is able to use the data you created previously to price the contract. The client may want to choose multiple dates to inject and withdraw a set amount of gas, so your approach should generalize the explanation from before. Consider all the cash flows involved in the product.\n",
    "\n",
    "The input parameters that should be taken into account for pricing are:\n",
    "- Injection dates. \n",
    "- Withdrawal dates.\n",
    "- The prices at which the commodity can be purchased/sold on those dates.\n",
    "- The rate at which the gas can be injected/withdrawn.\n",
    "- The maximum volume that can be stored.\n",
    "- Storage costs.\n",
    "\n",
    "Write a function that takes these inputs and gives back the value of the contract. You can assume there is no transport delay and that interest rates are zero. Market holidays, weekends, and bank holidays need not be accounted for. Test your code by selecting a few sample inputs."
   ]
  },
  {
   "cell_type": "markdown",
   "metadata": {},
   "source": [
    "Steps to Calculate the Value of the Contract\n",
    "1. Go through every date\n",
    "1a. If it is an injection date, calculate how much it will cost (cost to buy the gas and cost to inject gas)\n",
    "1b. If it is a withdrawal date, calculate how much cash is made (rate times the price it is sold at minus the cost to withdraw the gas)\n",
    "2. Once all dates have been calculated, calculate the total storage cost (number of months between the last date of withdrawal and the first day of injections)\n",
    "3. Subtrat the buy costs and storage costs from the total cash made to get your final value"
   ]
  },
  {
   "cell_type": "code",
   "execution_count": 2,
   "metadata": {},
   "outputs": [],
   "source": [
    "import math\n",
    "from datetime import date\n",
    "\n",
    "def price_contract(in_dates, in_prices, out_dates, out_prices, rate, storage_cost_rate, total_vol, injection_withdrawal_cost_rate):\n",
    "    #`in_dates`: A list of dates on which the gas is being injected into the storage facility.\n",
    "    #`in_prices`: A list of prices of gas on each of the injection dates.\n",
    "    #`out_dates`: A list of dates on which the gas is being withdrawn from the storage facility.\n",
    "    #`out_prices`: A list of prices of gas on each of the withdrawal dates.\n",
    "    #`rate`: The rate of gas in cubic feet per day.\n",
    "    #`storage_cost_rate`: A fixed monthly fee to store the gas\n",
    "    #`total_vol`: The total volume of gas in cubic feet that can be stored.\n",
    "    #`injection_withdrawal_cost_rate`: The injection/withdrawal cost of gas in dollars per cubic foot.\n",
    "    \n",
    "    cash_in = 0\n",
    "    volume = 0\n",
    "    buy_cost = 0\n",
    "\n",
    "    #get all dates\n",
    "    all_dates = set(in_dates+out_dates)\n",
    "    all_dates = sorted(all_dates)\n",
    "\n",
    "    #iterate through all dates\n",
    "    for date in all_dates:\n",
    "        \n",
    "        #if injection\n",
    "        if date in in_dates:\n",
    "            #if sufficient storage, add on buy costs\n",
    "            if volume <= total_vol - rate:\n",
    "                volume +=rate\n",
    "                buy_cost += rate * in_prices[in_dates.index(date)]\n",
    "                buy_cost += rate * injection_withdrawal_cost_rate\n",
    "                print(f\"Injected Gas on {date} at a Price of {in_prices[in_dates.index(date)]}\")\n",
    "            else:\n",
    "                print(\"Insufficient storage to buy more gas\")\n",
    "\n",
    "        #if withdrawal\n",
    "        elif date in out_dates:\n",
    "            #if sufficient volume remaining, add on cash made\n",
    "            if volume >= rate:\n",
    "                volume -= rate\n",
    "                cash_in += rate * out_prices[out_dates.index(date)]\n",
    "                cash_in -= rate * injection_withdrawal_cost_rate\n",
    "                print(f\"Withdrew Gas on {date} at a Price of {out_prices[out_dates.index(date)]}\")\n",
    "            else:\n",
    "                print(\"Insufficient volume to withdraw more gas\")\n",
    "    \n",
    "    #calculate total storage costs\n",
    "    total_storage_cost = math.ceil((max(out_dates)-min(in_dates)).days // 30) * storage_cost_rate\n",
    "    return cash_in - buy_cost - total_storage_cost"
   ]
  },
  {
   "cell_type": "code",
   "execution_count": 3,
   "metadata": {},
   "outputs": [
    {
     "name": "stdout",
     "output_type": "stream",
     "text": [
      "Injected Gas on 2022-01-01 at a Price of 20\n",
      "Withdrew Gas on 2022-01-27 at a Price of 23\n",
      "Injected Gas on 2022-02-01 at a Price of 21\n",
      "Withdrew Gas on 2022-02-15 at a Price of 19\n",
      "Injected Gas on 2022-02-21 at a Price of 20.5\n",
      "Withdrew Gas on 2022-03-20 at a Price of 21\n",
      "Injected Gas on 2022-04-01 at a Price of 22\n",
      "Withdrew Gas on 2022-06-01 at a Price of 25\n",
      "\n",
      "The value of the contract is: $399600.0\n"
     ]
    }
   ],
   "source": [
    "# Example usage of price_contract()\n",
    "in_dates = [date(2022, 1, 1), date(2022, 2, 1), date(2022, 2, 21), date(2022, 4, 1)] #injection dates\n",
    "in_prices = [20, 21, 20.5, 22]#prices on the injection days\n",
    "out_dates = [date(2022, 1, 27), date(2022, 2, 15), date(2022, 3, 20), date(2022, 6, 1)] # extraction dates\n",
    "out_prices = [23, 19, 21, 25] # prices on the extraction days\n",
    "rate = 100000  # rate of gas in cubic feet per day\n",
    "storage_cost_rate = 10000  # total volume in cubic feet\n",
    "injection_withdrawal_cost_rate = 0.0005  # $/cf\n",
    "max_storage_volume = 500000 # maximum storage capacity of the storage facility\n",
    "result = price_contract(in_dates, in_prices, out_dates, out_prices, rate, storage_cost_rate, max_storage_volume, injection_withdrawal_cost_rate)\n",
    "print()\n",
    "print(f\"The value of the contract is: ${result}\")"
   ]
  }
 ],
 "metadata": {
  "kernelspec": {
   "display_name": "work",
   "language": "python",
   "name": "python3"
  },
  "language_info": {
   "codemirror_mode": {
    "name": "ipython",
    "version": 3
   },
   "file_extension": ".py",
   "mimetype": "text/x-python",
   "name": "python",
   "nbconvert_exporter": "python",
   "pygments_lexer": "ipython3",
   "version": "3.11.7"
  }
 },
 "nbformat": 4,
 "nbformat_minor": 2
}
