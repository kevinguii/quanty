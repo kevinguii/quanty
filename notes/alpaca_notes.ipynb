{
 "cells": [
  {
   "cell_type": "markdown",
   "id": "d44a666e",
   "metadata": {},
   "source": [
    "To get multiple symbols:"
   ]
  },
  {
   "cell_type": "code",
   "execution_count": null,
   "id": "c3270d13",
   "metadata": {},
   "outputs": [],
   "source": [
    "# multi symbol request - single symbol is similar\n",
    "multisymbol_request_params = StockLatestQuoteRequest(symbol_or_symbols=[\"SPY\", \"GLD\", \"TLT\"])\n",
    "\n",
    "latest_multisymbol_quotes = client.get_stock_latest_quote(multisymbol_request_params)\n",
    "\n",
    "gld_latest_ask_price = latest_multisymbol_quotes[\"GLD\"].ask_price"
   ]
  },
  {
   "cell_type": "markdown",
   "id": "13c252b1",
   "metadata": {},
   "source": [
    "single symbol request price:"
   ]
  },
  {
   "cell_type": "code",
   "execution_count": null,
   "id": "ba033912",
   "metadata": {},
   "outputs": [],
   "source": [
    "# single symbol request\n",
    "request_params = CryptoLatestQuoteRequest(symbol_or_symbols=\"ETH/USD\")\n",
    "\n",
    "latest_quote = client.get_crypto_latest_quote(request_params)\n",
    "\n",
    "# must use symbol to access even though it is single symbol\n",
    "latest_quote[\"ETH/USD\"].ask_price"
   ]
  },
  {
   "cell_type": "markdown",
   "id": "3e0137bd",
   "metadata": {},
   "source": [
    "when you do a order request:\n",
    "- can either do notional ($) or qty\n",
    "- timeinforce: DAY, FOK, GTC, IOC"
   ]
  },
  {
   "cell_type": "code",
   "execution_count": null,
   "id": "e1c2bb51",
   "metadata": {},
   "outputs": [],
   "source": [
    "market_order_data = MarketOrderRequest(\n",
    "\tsymbol = \"QQQM\",\n",
    "\tqty = 1,\n",
    "\tside = OrderSide.BUY,\n",
    "\ttime_in_force = TimeInForce.DAY\n",
    ")\n",
    "\n",
    "market_order = trading_client.submit_order(order_data = market_order_data)\n",
    "\n",
    "limit_order_data = LimitOrderRequest(\n",
    "                    symbol=\"QQQM\",\n",
    "                    limit_price=17000,\n",
    "                    notional=4000,\n",
    "                    side=OrderSide.SELL,\n",
    "                    time_in_force=TimeInForce.FOK\n",
    "                   )"
   ]
  },
  {
   "cell_type": "markdown",
   "id": "148f3bf4",
   "metadata": {},
   "source": [
    "when shorting, make sure you don't own the stock currently, otherwise a sell order would just sell what you have"
   ]
  }
 ],
 "metadata": {
  "kernelspec": {
   "display_name": "school",
   "language": "python",
   "name": "python3"
  },
  "language_info": {
   "name": "python",
   "version": "3.11.8"
  }
 },
 "nbformat": 4,
 "nbformat_minor": 5
}
