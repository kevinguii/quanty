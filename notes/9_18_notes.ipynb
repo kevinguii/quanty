{
 "cells": [
  {
   "cell_type": "markdown",
   "id": "957a69ad",
   "metadata": {},
   "source": [
    "# Safety Checks on Trades\n",
    "- check post-trade exposure after entering the position internally\n",
    "- check that the last-tick price is up-to-date\n",
    "- set max # trades per day to limit number of positions"
   ]
  },
  {
   "cell_type": "markdown",
   "id": "118371d3",
   "metadata": {},
   "source": [
    "Bollinger Band:\n",
    "- calculates upper and lower bounds for the stock by calculating a SMA using a 20-period moving average and then calculate 1.5-2 std up and below that"
   ]
  },
  {
   "cell_type": "markdown",
   "id": "de3aa356",
   "metadata": {},
   "source": [
    "RSI (Relative Strength Index):\n",
    "- measures speed and magnitude of recent price changes\n",
    "- compares the magnitude of recent gains with recent losses to determine the speed and size of price movements\n",
    "- displayed as an oscillator on a scale from 0 to 100\n",
    "\t- high RSI (typically above 70): suggets overbought and may be due for a price drop\n",
    "\t- low RSI (typically below 30): suggests oversold and may be due for a rebound\n",
    "- traders use RSI to gauge momentum, identify potential reversal trends"
   ]
  },
  {
   "cell_type": "markdown",
   "id": "ffe30b89",
   "metadata": {},
   "source": [
    "VWAP (Volume-Weighted Average Price):\n",
    "- average price a stock is traded throughout the day, with greater emphasis given to trades with larger volume\n",
    "- used to track price movemenets"
   ]
  },
  {
   "cell_type": "markdown",
   "id": "7d79a5bb",
   "metadata": {},
   "source": [
    "Stock Trading Terminology:\n",
    "- market price: you fill immediatenly at the best possible price\n",
    "- limit price: you fill at your chosen price, or better, but it's not guarenteed\n",
    "- stop-loss order: if you set a stop at $10, and it dips below, you automatically become a market order for best available price to sell at\n",
    "- stop-limit order: once it dips below, you only agree to sell at $X or above\n",
    "- fill: order gets executed\n"
   ]
  },
  {
   "cell_type": "markdown",
   "id": "39385f55",
   "metadata": {},
   "source": [
    "For Limit Order Specifically:\n",
    "- FOK (Fill or Kill): order must be filled immediately at limit price or better, if not entire order is cancelled\n",
    "- GTC (Good Till Cancelled): stays open until filled or you cancel it\n",
    "- IOC (Immediate or Cancel): fill as much as possible immediately, cancel the rest\n",
    "- DAY: good for the trading day"
   ]
  }
 ],
 "metadata": {
  "language_info": {
   "name": "python"
  }
 },
 "nbformat": 4,
 "nbformat_minor": 5
}
