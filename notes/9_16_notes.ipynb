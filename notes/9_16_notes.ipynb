{
 "cells": [
  {
   "cell_type": "markdown",
   "id": "23cbdeeb",
   "metadata": {},
   "source": [
    "# Backtesting"
   ]
  },
  {
   "cell_type": "markdown",
   "id": "16b1d0bb",
   "metadata": {},
   "source": [
    "- if you trade on 1-hour to 4-hour intervals, you should backtest around 1-2 years of data\n",
    "- if you trade on 1-minute, 5-minute, 15-min, you should test on 3-6 months of data\n",
    "- increased time frame will not lead to more edge\n",
    "- once you have the rules set, immediately begin paper trading, with strict adherence to the rules, NEVER VIOLATE THE RULES\n",
    "\n",
    "- once you have paper trading data, if it is or isn't profitable, this stage will show that\n",
    "- review all the trades that were taken\n",
    "\t- ex. if trades come close to hitting stop loss, maybe tighten the stop-loss\n",
    "\t- ex. if many trades hit the stop-loss before reaching the take-profit level, potentially widen the stop-loss\n",
    "\n",
    "- cover means to fill a trade"
   ]
  },
  {
   "cell_type": "markdown",
   "id": "d4c17e47",
   "metadata": {},
   "source": [
    "- when you first start, set a wide stop loss"
   ]
  },
  {
   "cell_type": "markdown",
   "id": "4202b25e",
   "metadata": {},
   "source": [
    "## Metrics to Use\n",
    "- PnL, Sharpe Ratio, Max Drawdown"
   ]
  },
  {
   "cell_type": "markdown",
   "id": "72713cf9",
   "metadata": {},
   "source": [
    "## Golden Rule of Finance\n",
    "\n",
    "$IR = IC * sqrt(Breadth)$\n",
    "- IR: Information Ratio, how much excess return per unit of risk\n",
    "- IC: Information Coefficient, skill level of investor, how good you are at predicting if something will outperform/underperform\n",
    "- Breadth: # of independent bets\n",
    "\n",
    "High IC is hard, therefore quant funds inc their IR by doing many many independent trades, which is increasing breadth."
   ]
  },
  {
   "cell_type": "markdown",
   "id": "c1d087fb",
   "metadata": {},
   "source": [
    "## Small/Non-Small Cap Stocks\n",
    "- small cap: smaller market capitalization (~300M-2B)\n",
    "\t- tend to be more volatile\n",
    "\t- often less liquid (less trading volume)\n",
    "\t- should normalize against other small caps\n",
    "- non-small cap: mid-cap, large-cap, or mega-cap usually\n",
    "\t- tend to be less volatile\n",
    "\t- normalize against their own daily volatility (ADR)\n",
    "\n",
    "- when doing backtests, NORMALIZATION is important\n",
    "\t- for non-small caps: you can normalize gap size by dividing by stock's ADR (Average Daily Return)\n",
    "\t\t- ex. 5% on a low-vol stock could be equivalent to 10% on a high-vol stock\n",
    "\t- for small caps: divide by average gap size of similar small caps of same size over past X days"
   ]
  }
 ],
 "metadata": {
  "language_info": {
   "name": "python"
  }
 },
 "nbformat": 4,
 "nbformat_minor": 5
}
