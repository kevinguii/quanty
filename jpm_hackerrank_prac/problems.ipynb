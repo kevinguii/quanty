{
 "cells": [
  {
   "cell_type": "code",
   "execution_count": 1,
   "metadata": {},
   "outputs": [],
   "source": [
    "import pandas as pd"
   ]
  },
  {
   "cell_type": "markdown",
   "metadata": {},
   "source": [
    "# Problem 1"
   ]
  },
  {
   "cell_type": "code",
   "execution_count": 3,
   "metadata": {},
   "outputs": [
    {
     "name": "stdout",
     "output_type": "stream",
     "text": [
      "Yes\n",
      "No\n"
     ]
    }
   ],
   "source": [
    "# if you can conver a and b to c and d through (a+b,b) or (a,a+b) any number of times\n",
    "def can_convert(a,b,c,d):\n",
    "\twhile a<=c and b<=d:\n",
    "\t\tif c==a and b==d:\n",
    "\t\t\treturn \"Yes\"\n",
    "\t\tif a<b:\n",
    "\t\t\ta+=b\n",
    "\t\telse:\n",
    "\t\t\tb+=a\n",
    "\treturn \"No\"\n",
    "\n",
    "a, b = 1, 1\n",
    "c, d = 3, 5\n",
    "print(can_convert(a, b, c, d))  # Output: Yes\n",
    "\n",
    "a, b = 1, 2\n",
    "c, d = 2, 1\n",
    "print(can_convert(a, b, c, d))  # Output: No"
   ]
  },
  {
   "cell_type": "markdown",
   "metadata": {},
   "source": [
    "# Problem 2"
   ]
  },
  {
   "cell_type": "code",
   "execution_count": 4,
   "metadata": {},
   "outputs": [
    {
     "name": "stdout",
     "output_type": "stream",
     "text": [
      "2\n"
     ]
    }
   ],
   "source": [
    "# given an array and a window, check how many windows are strictly increasing\n",
    "def count_highly_profitable_intervals(stockPrices, k):\n",
    "    n = len(stockPrices)\n",
    "    if k > n:\n",
    "        return 0\n",
    "\n",
    "    count = 0\n",
    "    increasing_pairs = 0\n",
    "\n",
    "    # Initialize the first window\n",
    "    for i in range(k - 1):\n",
    "        if stockPrices[i] < stockPrices[i + 1]:\n",
    "            increasing_pairs += 1\n",
    "\n",
    "    # Check if the first window is highly profitable\n",
    "    if increasing_pairs == k - 1:\n",
    "        count += 1\n",
    "\n",
    "    # Slide the window across the array\n",
    "    for i in range(1, n - k + 1):\n",
    "        # Remove the effect of the element going out of the window\n",
    "        if stockPrices[i - 1] < stockPrices[i]:\n",
    "            increasing_pairs -= 1\n",
    "        # Add the effect of the new element coming into the window\n",
    "        if stockPrices[i + k - 2] < stockPrices[i + k - 1]:\n",
    "            increasing_pairs += 1\n",
    "\n",
    "        # Check if the current window is highly profitable\n",
    "        if increasing_pairs == k - 1:\n",
    "            count += 1\n",
    "\n",
    "    return count\n",
    "\n",
    "# Example usage:\n",
    "stockPrices = [5, 3, 5, 7, 8]\n",
    "k = 3\n",
    "print(count_highly_profitable_intervals(stockPrices, k))  # Output: 2\n"
   ]
  },
  {
   "cell_type": "markdown",
   "metadata": {},
   "source": [
    "# Problem 3"
   ]
  },
  {
   "cell_type": "code",
   "execution_count": 6,
   "metadata": {},
   "outputs": [
    {
     "name": "stdout",
     "output_type": "stream",
     "text": [
      "aaba\n",
      "IMPOSSIBLE\n",
      "ab\n",
      "aba\n"
     ]
    }
   ],
   "source": [
    "#make a word not palindrone while making the value smaller\n",
    "def make_non_palindrome(palindrome):\n",
    "    n = len(palindrome)\n",
    "    \n",
    "    if n == 1:\n",
    "        return \"IMPOSSIBLE\"\n",
    "    \n",
    "    # Convert to a list to modify the string\n",
    "    char_list = list(palindrome)\n",
    "    \n",
    "    # Traverse from start to the middle\n",
    "    for i in range(n // 2):\n",
    "        if char_list[i] != 'a':\n",
    "            char_list[i] = 'a'\n",
    "            return ''.join(char_list)\n",
    "    \n",
    "    # If all characters from start to middle are 'a'\n",
    "    if n % 2 == 1:  # odd length\n",
    "        char_list[n // 2] = 'b'\n",
    "    else:  # even length\n",
    "        char_list[-1] = 'b' if char_list[-1] == 'a' else 'a'\n",
    "    \n",
    "    return ''.join(char_list)\n",
    "\n",
    "# Example usage:\n",
    "print(make_non_palindrome(\"abba\"))  # Output: \"aaba\"\n",
    "print(make_non_palindrome(\"a\"))     # Output: \"IMPOSSIBLE\"\n",
    "print(make_non_palindrome(\"aa\"))    # Output: \"ab\"\n",
    "print(make_non_palindrome(\"aba\"))   # Output: \"abb\"\n"
   ]
  },
  {
   "cell_type": "markdown",
   "metadata": {},
   "source": [
    "# Problem 4"
   ]
  },
  {
   "cell_type": "code",
   "execution_count": 7,
   "metadata": {},
   "outputs": [
    {
     "name": "stdout",
     "output_type": "stream",
     "text": [
      "29\n"
     ]
    }
   ],
   "source": [
    "import heapq\n",
    "\n",
    "def min_cost_to_reduce_array(nums):\n",
    "    # Create a Min Heap from the input array\n",
    "    heapq.heapify(nums)\n",
    "    \n",
    "    total_cost = 0\n",
    "    \n",
    "    while len(nums) > 1:\n",
    "        # Extract the two smallest elements\n",
    "        num1 = heapq.heappop(nums)\n",
    "        num2 = heapq.heappop(nums)\n",
    "        \n",
    "        # Calculate the cost of this move\n",
    "        cost = num1 + num2\n",
    "        total_cost += cost\n",
    "        \n",
    "        # Add the sum back to the heap\n",
    "        heapq.heappush(nums, cost)\n",
    "    \n",
    "    return total_cost\n",
    "\n",
    "# Example usage:\n",
    "nums = [4, 3, 6, 2]\n",
    "print(min_cost_to_reduce_array(nums))  # Output: 29\n"
   ]
  },
  {
   "cell_type": "markdown",
   "metadata": {},
   "source": [
    "# Problem 6"
   ]
  },
  {
   "cell_type": "code",
   "execution_count": 11,
   "metadata": {},
   "outputs": [
    {
     "name": "stdout",
     "output_type": "stream",
     "text": [
      "['I', 'using', 'programming']\n"
     ]
    }
   ],
   "source": [
    "def find_missing_words(s, t):\n",
    "    s_words = s.split()\n",
    "    t_words = t.split()\n",
    "    \n",
    "    missing_words = []\n",
    "    t_index = 0\n",
    "    \n",
    "    for word in s_words:\n",
    "        if t_index < len(t_words) and word == t_words[t_index]:\n",
    "            t_index += 1\n",
    "        else:\n",
    "            missing_words.append(word)\n",
    "    \n",
    "    return missing_words\n",
    "\n",
    "# Example usage:\n",
    "s = \"I am using HackerRank to improve programming\"\n",
    "t = \"am HackerRank to improve\"\n",
    "print(find_missing_words(s, t))  # Output: ['I', 'using', 'programming']"
   ]
  },
  {
   "cell_type": "markdown",
   "metadata": {},
   "source": [
    "# Problem 7"
   ]
  },
  {
   "cell_type": "code",
   "execution_count": 12,
   "metadata": {},
   "outputs": [
    {
     "name": "stdout",
     "output_type": "stream",
     "text": [
      "[3, 5, 10, 7, 14]\n"
     ]
    }
   ],
   "source": [
    "def binary_sort(arr):\n",
    "    def count_ones(x):\n",
    "        return bin(x).count('1')\n",
    "    \n",
    "    # Sort by count of '1's and then by the decimal value\n",
    "    arr.sort(key=lambda x: (count_ones(x), x))\n",
    "    return arr\n",
    "\n",
    "# Example usage:\n",
    "arr = [5, 3, 7, 10, 14]\n",
    "print(binary_sort(arr))  # Output: [3, 5, 10, 7, 14]\n"
   ]
  }
 ],
 "metadata": {
  "kernelspec": {
   "display_name": "work",
   "language": "python",
   "name": "python3"
  },
  "language_info": {
   "codemirror_mode": {
    "name": "ipython",
    "version": 3
   },
   "file_extension": ".py",
   "mimetype": "text/x-python",
   "name": "python",
   "nbconvert_exporter": "python",
   "pygments_lexer": "ipython3",
   "version": "3.11.7"
  }
 },
 "nbformat": 4,
 "nbformat_minor": 2
}
